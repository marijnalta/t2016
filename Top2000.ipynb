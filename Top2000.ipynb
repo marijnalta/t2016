{
 "cells": [
  {
   "cell_type": "markdown",
   "metadata": {},
   "source": [
    "# Top 2000 analyse\n",
    "\n",
    "Wat funfacts op basis van de top 2000 uit 2016."
   ]
  },
  {
   "cell_type": "markdown",
   "metadata": {},
   "source": [
    "## Hoe vaak voorgekomen per jaar\n",
    "Onderstaande grafiek laat zien hoeveel nummers er per jaar in de top 2000 van 2016 zitten. \n"
   ]
  },
  {
   "cell_type": "code",
   "execution_count": 1,
   "metadata": {
    "scrolled": false
   },
   "outputs": [
    {
     "data": {
      "text/plain": [
       "<matplotlib.figure.Figure at 0x295abd0>"
      ]
     },
     "metadata": {},
     "output_type": "display_data"
    },
    {
     "name": "stdout",
     "output_type": "stream",
     "text": [
      "26.0 procent uit de top 2000 komt van na de milleniumwissel.\n"
     ]
    }
   ],
   "source": [
    "import matplotlib.pyplot as plt\n",
    "import pandas as pd\n",
    "\n",
    "# plot graph\n",
    "def plot_graph(x, y, label):\n",
    "    plt.title(\"Top 2000\")\n",
    "    plt.xlabel(\"Tijd (jaren)\")\n",
    "    plt.ylabel(label)\n",
    "    plt.bar(x, y, width=0.5)\n",
    "    plt.show()\n",
    "\n",
    "# read top2000.csv\n",
    "with open(\"top2016.csv\") as f:\n",
    "    text = f.readlines()\n",
    "    \n",
    "# fill top2000filled.csv\n",
    "with open(\"top2000fixed.csv\", \"w\") as f:\n",
    "    for i in range(len(text)):\n",
    "        f.write(text[i][0:len(text[i]) - 7])\n",
    "        f.write(\"\\n\")\n",
    "        \n",
    "# read data\n",
    "data = pd.read_csv(\"top2000fixed.csv\")\n",
    "d = {}\n",
    "\n",
    "# iterate over data\n",
    "for year in data[\"jaar\"]:\n",
    "    if year in d:\n",
    "        d[year] += 1\n",
    "    else:\n",
    "        d[year] = 1\n",
    "        \n",
    "# fill x values\n",
    "x_vals = []\n",
    "for year in range(min(d), max(d) + 1):\n",
    "    x_vals.append(year)\n",
    "    \n",
    "# fill y values\n",
    "y_vals = []\n",
    "for i in x_vals:\n",
    "    if i in d.keys():\n",
    "        y_vals.append(d[i])\n",
    "    else:\n",
    "        y_vals.append(0)\n",
    "\n",
    "plot_graph(x_vals, y_vals, \"Hoevaak voorgekomen\")\n",
    "\n",
    "counter = 0\n",
    "for i in data[\"jaar\"]:\n",
    "    if i >= 2000:\n",
    "        counter += 1\n",
    "\n",
    "print(\"%.1f procent uit de top 2000 komt van na de milleniumwissel.\" % (counter / 2000 * 100))"
   ]
  },
  {
   "cell_type": "markdown",
   "metadata": {},
   "source": [
    "## Score per jaar\n",
    "Onderstaande grafiek laat de score per jaar uit de top 2000 zien. \n",
    "\n",
    "De score wordt berekent door de volgende formule: 2001 - positie in de top 2000. De score laat zien dat niet alle nummers die hoog scoren uit de jaren tachtig komen."
   ]
  },
  {
   "cell_type": "code",
   "execution_count": 2,
   "metadata": {},
   "outputs": [
    {
     "data": {
      "image/png": "[encoded data removed]",
      "text/plain": [
       "<matplotlib.figure.Figure at 0x75c2d30>"
      ]
     },
     "metadata": {},
     "output_type": "display_data"
    }
   ],
   "source": [
    "# create dictionary\n",
    "d = {}\n",
    "\n",
    "# iterate over data\n",
    "for i in range(len(data[\"jaar\"])):\n",
    "    if data[\"jaar\"][i] in d:\n",
    "        d[data[\"jaar\"][i]] += 2001 - data[\"pos\"][i]\n",
    "    else:\n",
    "        d[data[\"jaar\"][i]] = 2001 - data[\"pos\"][i]\n",
    "\n",
    "# fill y values\n",
    "ys_vals = []\n",
    "for i in x_vals:\n",
    "    if i in d.keys():\n",
    "        ys_vals.append(d[i])\n",
    "    else:\n",
    "        ys_vals.append(0)\n",
    "\n",
    "plot_graph(x_vals, ys_vals, \"Score\")"
   ]
  },
  {
   "cell_type": "markdown",
   "metadata": {},
   "source": [
    "## Score vergeleken met hoe vaak voorgekomen\n",
    "Onderstaande grafiek laat het verschil in percentage tussen de score en hoe vaak voorgekomen zien. Een negatief verschil betekent dat de het percentage score lager is dan het percentage voorgekomen nummers in de top 2000.\n",
    "\n",
    "Het verschil tussen de behaalde score en het aantal voorgekomen nummers per jaar blijkt over het algemeen wel enigszins te fluctueren, maar niet heel drastisch. Met uitzondering van het jaar 1939, waarvan enkel het nummer Strange Fruit van Billie Holiday in de top 2000 staat. Dit nummer staat op plek 1989 in de top 2000 en heeft dus een score van 12."
   ]
  },
  {
   "cell_type": "code",
   "execution_count": 3,
   "metadata": {},
   "outputs": [
    {
     "data": {
      "image/png": "[encoded data removed]",
      "text/plain": [
       "<matplotlib.figure.Figure at 0x7576850>"
      ]
     },
     "metadata": {},
     "output_type": "display_data"
    }
   ],
   "source": [
    "yc_vals = [((ys_vals[i] / 1000) - y_vals[i]) / y_vals[i] * 100 if y_vals[i] > 0 else 0 for i in range(len(y_vals))]\n",
    "plot_graph(x_vals, yc_vals, \"Verschil score/voorkomen (%)\")"
   ]
  },
  {
   "cell_type": "markdown",
   "metadata": {},
   "source": [
    "## Vaakst voorkomende artiesten\n",
    "Onderstaande lijst laat zien welke artiesten het meest in de top 2000 voorkomen.\n"
   ]
  },
  {
   "cell_type": "code",
   "execution_count": 4,
   "metadata": {},
   "outputs": [
    {
     "name": "stdout",
     "output_type": "stream",
     "text": [
      "The Beatles                             : 38\n",
      "The Rolling Stones                      : 26\n",
      "Queen                                   : 25\n",
      "Coldplay                                : 23\n",
      "U2                                      : 23\n",
      "David Bowie                             : 22\n",
      "Michael Jackson                         : 22\n",
      "Bruce Springsteen                       : 21\n",
      "ABBA                                    : 21\n",
      "Bløf                                    : 16\n",
      "Fleetwood Mac                           : 16\n",
      "Prince                                  : 15\n",
      "Elvis Presley                           : 14\n",
      "Marco Borsato                           : 13\n",
      "De Dijk                                 : 13\n",
      "Muse                                    : 13\n",
      "Anouk                                   : 12\n",
      "Pink Floyd                              : 12\n",
      "Bee Gees                                : 12\n",
      "Dire Straits                            : 12\n",
      "Adele                                   : 12\n",
      "Eagles                                  : 11\n",
      "The Doors                               : 11\n",
      "Creedence Clearwater Revival            : 11\n",
      "Billy Joel                              : 10\n"
     ]
    }
   ],
   "source": [
    "# create dictionary\n",
    "artists = {}\n",
    "\n",
    "# iterate over data\n",
    "for i in data[\"artiest\"]:\n",
    "    if i in artists:\n",
    "        artists[i] += 1\n",
    "    else:\n",
    "        artists[i] = 1\n",
    "\n",
    "top_artists = []\n",
    "number_of_songs = []\n",
    "n = 25\n",
    "\n",
    "for i in range(n):\n",
    "    highest = \"\"\n",
    "    maximum = 0\n",
    "    \n",
    "    for j in artists:\n",
    "        if artists[j] > maximum:\n",
    "            highest = j\n",
    "            maximum = artists[j]\n",
    "    \n",
    "    top_artists.append(highest)\n",
    "    number_of_songs.append(maximum)\n",
    "    del artists[highest]\n",
    "    \n",
    "for i in range(n):\n",
    "    print(\"%s%s: %d\" % (top_artists[i], (40 - len(top_artists[i])) * \" \", number_of_songs[i]))"
   ]
  },
  {
   "cell_type": "markdown",
   "metadata": {},
   "source": [
    "## Funfacts\n",
    "Onderstaande code print enkele funfacts uit de top 2000."
   ]
  },
  {
   "cell_type": "code",
   "execution_count": 5,
   "metadata": {
    "scrolled": true
   },
   "outputs": [
    {
     "name": "stdout",
     "output_type": "stream",
     "text": [
      "Gemiddelde lengte naam artiest : 11.5885 \n",
      "\n",
      "Gemiddelde titel lengte : 14.8495 \n",
      "\n",
      "S is de meest voorkomende eerste letter bij nummers in de top 2000, met een voorkomen van 213 keer\n",
      "\n",
      "1580 nummers bestaan uit meer dan 1 woord\n",
      "\n",
      "301 nummers bevatten het woord 'the'\n",
      "\n",
      "24 nummers bestaan uit drie of minder letters\n",
      "\n",
      "Crazy is de meest voorkomende titel in de top 2000. Deze is 4 keer gebruikt\n",
      "\n",
      "If You Tolerate This Your Children Will Be Next van Manic Street Preachers is het nummer in de top 2000 met de langste naam, bestaande uit 47 tekens! Het nummer staat op plek 747 \n",
      "\n",
      "2117 verschillende woorden gebruikt in de 2000 titels. Of er is bijzonder veel overkomst, of er is een bug in mijn code\n",
      "\n"
     ]
    }
   ],
   "source": [
    "def gemiddelde(l, text):\n",
    "    total_length = 0\n",
    "    for i in data[l]:\n",
    "        total_length += len(i)\n",
    "    print(\"Gemiddelde\", text, \":\", total_length / len(data[l]), \"\\n\")\n",
    "\n",
    "# gemiddelde lengte naam artiest\n",
    "gemiddelde(\"artiest\", \"lengte naam artiest\")\n",
    "\n",
    "# gemiddelde lengte nummer\n",
    "gemiddelde(\"titel\", \"titel lengte\")\n",
    "\n",
    "# meest voorkomende eerste letter\n",
    "d = {}\n",
    "for i in data[\"titel\"]:\n",
    "    if i[:1] in d:\n",
    "        d[i[:1]] += 1\n",
    "    else:\n",
    "        d[i[:1]] = 1\n",
    "\n",
    "hfreq = max(max(d, key=d.get))\n",
    "print(hfreq, \"is de meest voorkomende eerste letter bij nummers in de top 2000, met een voorkomen van\", d[hfreq], \"keer\\n\")\n",
    "\n",
    "# hoeveel nummers bestaan uit meerdere woorden\n",
    "counter = 0\n",
    "for i in data[\"titel\"]:\n",
    "    if \" \" in i:\n",
    "        counter += 1\n",
    "\n",
    "print(counter, \"nummers bestaan uit meer dan 1 woord\\n\")\n",
    "\n",
    "# hoeveel nummers bevatten het woord the\n",
    "counter = 0\n",
    "for i in data[\"titel\"]:\n",
    "    if \"the\" in i or \"The\" in i:\n",
    "        counter += 1\n",
    "\n",
    "print(counter, \"nummers bevatten het woord 'the'\\n\")\n",
    "\n",
    "# hoeveel nummers bestaan uit 3 of minder letters\n",
    "counter = 0\n",
    "for i in data[\"titel\"]:\n",
    "    if len(i) <= 3:\n",
    "        counter += 1\n",
    "\n",
    "print(counter, \"nummers bestaan uit drie of minder letters\\n\")\n",
    "\n",
    "# wat is de titel die het meest voorkomt en hoe vaak\n",
    "d = {}\n",
    "for i in data[\"titel\"]:\n",
    "    if i in d:\n",
    "        d[i] += 1\n",
    "    else:\n",
    "        d[i] = 1\n",
    "\n",
    "most_used = max(d.values())\n",
    "for i in d:\n",
    "    if d[i] == 4:\n",
    "        print(i, \"is de meest voorkomende titel in de top 2000. Deze is\", most_used, \"keer gebruikt\\n\")\n",
    "\n",
    "# wat is de langste titel van een nummer dat voorkomt en van wie\n",
    "max_len = 0\n",
    "title = \"\"\n",
    "artist = \"\"\n",
    "place = 0\n",
    "\n",
    "for i in range(len(data[\"titel\"])):\n",
    "    if len(data[\"titel\"][i]) > max_len:\n",
    "        max_len = len(data[\"titel\"][i])\n",
    "        title = data[\"titel\"][i]\n",
    "        artist = data[\"artiest\"][i]\n",
    "        place = data[\"pos\"][i]\n",
    "\n",
    "print(title, \"van\", artist, \"is het nummer in de top 2000 met de langste naam, bestaande uit\", max_len, \"tekens!\",\n",
    "     \"Het nummer staat op plek\", place, \"\\n\")\n",
    "        \n",
    "# hoeveel verschillende woorden worden er in deze 2000 nummers gebruikt (in titel)\n",
    "d = {}\n",
    "for i in data[\"titel\"]:\n",
    "    to_lower = i.lower()\n",
    "    fix = to_lower.replace(\",\", \"\").replace(\"!\", \"\").replace(\"(\", \"\").replace(\")\", \"\").replace(\"/\", \"\").replace(\"?\", \"\")\n",
    "    words = fix.split()\n",
    "    for j in words:\n",
    "        if j in d:\n",
    "            d[j] += 1\n",
    "        else:\n",
    "            d[j] = 1\n",
    "\n",
    "print(len(d), \"verschillende woorden gebruikt in de 2000 titels. Of er is bijzonder veel overkomst, of er is een bug in mijn code\\n\")"
   ]
  },
  {
   "cell_type": "code",
   "execution_count": null,
   "metadata": {},
   "outputs": [],
   "source": []
  }
 ],
 "metadata": {
  "kernelspec": {
   "display_name": "Python 3",
   "language": "python",
   "name": "python3"
  },
  "language_info": {
   "codemirror_mode": {
    "name": "ipython",
    "version": 3
   },
   "file_extension": ".py",
   "mimetype": "text/x-python",
   "name": "python",
   "nbconvert_exporter": "python",
   "pygments_lexer": "ipython3",
   "version": "3.6.3"
  }
 },
 "nbformat": 4,
 "nbformat_minor": 2
}
